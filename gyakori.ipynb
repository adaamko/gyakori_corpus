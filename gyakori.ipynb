{
 "cells": [
  {
   "cell_type": "code",
   "execution_count": null,
   "metadata": {},
   "outputs": [],
   "source": [
    "import requests\n",
    "import re\n",
    "import numpy as np\n",
    "from bs4 import BeautifulSoup"
   ]
  },
  {
   "cell_type": "code",
   "execution_count": null,
   "metadata": {},
   "outputs": [],
   "source": [
    "root = \"http://gyakorikerdesek.hu\"\n",
    "page = requests.get(root)\n",
    "soup = BeautifulSoup(page.content, 'html.parser')\n",
    "html = list(soup.children)[2]\n",
    "\n",
    "menus = [] \n",
    "for menu in soup.find_all(class_='menu'):\n",
    "    menus.append(menu.a.get(\"href\"))\n",
    "    \n",
    "page = requests.get(root + menus[1])\n",
    "allatok = BeautifulSoup(page.content, 'html.parser')"
   ]
  },
  {
   "cell_type": "code",
   "execution_count": null,
   "metadata": {},
   "outputs": [],
   "source": [
    "def get_valasz(page):\n",
    "    valasz_hasznos = re.compile(\"A válasz (\\d+)%-ban hasznosnak tűnik.\")\n",
    "    iro_hasznos = re.compile(\"A válaszíró (\\d+)%-ban hasznos válaszokat ad.\")\n",
    "    valasz_page = page.find_all(\"td\", class_=\"valaszok vtop\")\n",
    "    return_valasz = None\n",
    "    if valasz_page:\n",
    "        valaszok = []\n",
    "        scoreok = []\n",
    "        for val in valasz_page:\n",
    "            val_text = val.get_text().strip(\"\\n\")\n",
    "            if val_text:\n",
    "                valasz_m = valasz_hasznos.findall(val_text)\n",
    "                iro_m = iro_hasznos.findall(val_text)\n",
    "                if valasz_m and iro_m:\n",
    "                    avg = (int(valasz_m[0]) + int(iro_m[0])) / 2\n",
    "                    valasz = valasz_hasznos.search(val_text)\n",
    "                    valasz = val_text.split(valasz.group())\n",
    "                    valaszok.append(valasz[0])\n",
    "                    scoreok.append(avg)\n",
    "        if valaszok and scoreok:\n",
    "            return_valasz = valaszok[np.argmax(scoreok)]\n",
    "    return return_valasz"
   ]
  },
  {
   "cell_type": "code",
   "execution_count": null,
   "metadata": {},
   "outputs": [],
   "source": [
    "corp = {}\n",
    "for i,kerdes in enumerate(allatok.find_all(class_=\"kerdes_lista\")[1].find_all(\"tr\")):\n",
    "    try:\n",
    "        kerdes_url = kerdes.find(\"a\").get(\"href\")\n",
    "        subpage = requests.get(root + kerdes_url)\n",
    "        allatok_kerdes = BeautifulSoup(subpage.content, 'html.parser')\n",
    "        hosszu_kerdes = allatok_kerdes.find(class_=\"kerdes\").find_all(\"td\")[2].get_text()\n",
    "        rovid_kerdes = allatok_kerdes.find(class_=\"kerdes\").find_all(\"td\")[2].h1.get_text()\n",
    "        kategoriak = []\n",
    "        for kategoria in allatok_kerdes.find(\"select\").find_all(\"option\")[1:]:\n",
    "            kategoriak.append(kategoria.get_text())\n",
    "        valasz = get_valasz(allatok_kerdes)\n",
    "        if valasz:\n",
    "            corp[i] = {\"rovid_kerdes\": rovid_kerdes, \"hosszu_kerdes\": hosszu_kerdes, \"kategoriak\": kategoriak, \"valasz\": valasz}\n",
    "        print(i)\n",
    "    except Exception as e:\n",
    "        print(e)\n",
    "        continue"
   ]
  },
  {
   "cell_type": "code",
   "execution_count": null,
   "metadata": {},
   "outputs": [],
   "source": [
    "for k in range(1,10):\n",
    "    page = requests.get(root + \"/allatok__oldal-\"+str(k))\n",
    "    allatok = BeautifulSoup(page.content, 'html.parser')\n",
    "    kerdesek_raw = allatok.find_all(class_=\"kerdes_lista\")\n",
    "    if len(kerdesek_raw) == 1:\n",
    "        kerdesek = kerdesek_raw[0].find_all(\"tr\")\n",
    "    elif len(kerdesek_raw) == 2:\n",
    "        kerdesek = kerdesek_raw[1].find_all(\"tr\")\n",
    "    for kerdes in kerdesek:\n",
    "        try:\n",
    "            kerdes_url = kerdes.find(\"a\").get(\"href\")\n",
    "            subpage = requests.get(root + kerdes_url)\n",
    "            allatok_kerdes = BeautifulSoup(subpage.content, 'html.parser')\n",
    "            hosszu_kerdes = allatok_kerdes.find(class_=\"kerdes\").find_all(\"td\")[2].get_text()\n",
    "            rovid_kerdes = allatok_kerdes.find(class_=\"kerdes\").find_all(\"td\")[2].h1.get_text()\n",
    "            kategoriak = []\n",
    "            for kategoria in allatok_kerdes.find(\"select\").find_all(\"option\")[1:]:\n",
    "                kategoriak.append(kategoria.get_text())\n",
    "            valasz = get_valasz(allatok_kerdes)\n",
    "            if valasz:\n",
    "                corp[i] = {\"rovid_kerdes\": rovid_kerdes, \"hosszu_kerdes\": hosszu_kerdes, \"kategoriak\": kategoriak, \"valasz\": valasz}\n",
    "            i += 1\n",
    "            print(i)\n",
    "        except Exception as e:\n",
    "            print(e)\n",
    "            continue\n",
    "    print(\"page: \" + str(k))"
   ]
  },
  {
   "cell_type": "code",
   "execution_count": null,
   "metadata": {},
   "outputs": [],
   "source": [
    "page = requests.get(root + \"/allatok__kutyak__9989071-meg-nem-volt-kutyam-airdale-terrier-lakasban-tartasarol-mit-gondoltok\")"
   ]
  },
  {
   "cell_type": "code",
   "execution_count": null,
   "metadata": {},
   "outputs": [],
   "source": [
    "allatok_kerdes = BeautifulSoup(page.content, 'html.parser')"
   ]
  },
  {
   "cell_type": "code",
   "execution_count": null,
   "metadata": {},
   "outputs": [],
   "source": [
    "allatok_kerdes"
   ]
  },
  {
   "cell_type": "code",
   "execution_count": null,
   "metadata": {},
   "outputs": [],
   "source": [
    "allatok_kerdes.find(class_=\"kerdes\").find_all(\"td\")[2].get_text()"
   ]
  },
  {
   "cell_type": "code",
   "execution_count": null,
   "metadata": {},
   "outputs": [],
   "source": [
    "allatok_kerdes.find(class_=\"kerdes\").find_all(\"td\")[2].h1.get_text()"
   ]
  },
  {
   "cell_type": "code",
   "execution_count": null,
   "metadata": {},
   "outputs": [],
   "source": [
    "allatok_kerdes.find(\"select\").find(\"option\").get_text()"
   ]
  },
  {
   "cell_type": "code",
   "execution_count": null,
   "metadata": {},
   "outputs": [],
   "source": [
    "import json\n",
    "with open(\"gyakori_corpus\", \"w+\") as f:\n",
    "    for ind in corp:\n",
    "        kategoriak = corp[ind][\"kategoriak\"]\n",
    "        rovid_kerdes = corp[ind][\"rovid_kerdes\"]\n",
    "        hosszu_kerdes = ' '.join(corp[ind][\"hosszu_kerdes\"].split(\"\\n\")[1:])\n",
    "        f.write(\",\".join(kategoriak) + \"\\t\" + rovid_kerdes + \"\\t\" + hosszu_kerdes + \"\\n\")\n",
    "        #f.write(json.dumps(corp[ind]))"
   ]
  },
  {
   "cell_type": "code",
   "execution_count": null,
   "metadata": {},
   "outputs": [],
   "source": [
    "felhasznalo_kerdese = re.compile(\"(^\\w+) nevű felhasználó kérdése:\")\n",
    "felhasznalo_valasza = re.compile(\"(^\\w+) nevű felhasználó válasza:\")\n",
    "inds = []\n",
    "for c in corp:\n",
    "    hosszu_kerdes = corp[c][\"hosszu_kerdes\"].strip(\"\\n\").replace(\"(adsbygoogle = window.adsbygoogle || []).push({});\",\"\").split(\"\\n\")\n",
    "    hosszu_kerdes = \" \".join(hosszu_kerdes)\n",
    "    valasz_unfiltered = corp[c][\"valasz\"]\n",
    "    m = felhasznalo_valasza.search(valasz_unfiltered)\n",
    "    if m:\n",
    "        valasz_unfiltered = valasz_unfiltered.replace(m.group(), \"\")\n",
    "    hosszu_valasz = valasz_unfiltered.strip(\"\\n\").replace(\"(adsbygoogle = window.adsbygoogle || []).push({});\",\"\").replace(\"\\n\", \" \").strip()\n",
    "    corp[c][\"valasz\"] = hosszu_valasz\n",
    "    if \"Keress kérdéseket hasonló témákban:\" in hosszu_kerdes:\n",
    "        kerdes = hosszu_kerdes.split(\"Keress kérdéseket hasonló témákban:\")\n",
    "        kerdes_text = kerdes[0].strip().replace(\"\\n\",\" \")\n",
    "        m = felhasznalo_kerdese.search(kerdes_text)\n",
    "        if m:\n",
    "            kerdes_text = kerdes_text.replace(m.group(), \"\")\n",
    "        corp[c][\"hosszu_kerdes\"] = kerdes_text\n",
    "        corp[c][\"keywords\"] = [i.strip() for i in kerdes[1].split(\",\")]\n",
    "        kat = corp[c][\"kategoriak\"]\n",
    "        kat_filt = [i.replace(\"» \", \"\") for i in kat]\n",
    "        corp[c][\"kategoriak\"] = kat_filt\n",
    "        inds.append(c)\n",
    "        \n",
    "filtered_corp = [corp[i] for i in corp if i in inds]\n",
    "unique_corp = []\n",
    "rovid_kerdesek = []\n",
    "for i in filtered_corp:\n",
    "    if i[\"rovid_kerdes\"] not in rovid_kerdesek:\n",
    "        unique_corp.append(i)\n",
    "        rovid_kerdesek.append(i[\"rovid_kerdes\"])"
   ]
  },
  {
   "cell_type": "code",
   "execution_count": null,
   "metadata": {},
   "outputs": [],
   "source": [
    "unique_corp"
   ]
  },
  {
   "cell_type": "code",
   "execution_count": null,
   "metadata": {},
   "outputs": [],
   "source": [
    "import json\n",
    "with open(\"gyakori_corpus\", \"w+\") as f:\n",
    "    s = json.dumps(unique_corp)\n",
    "    f.write(s)"
   ]
  },
  {
   "cell_type": "code",
   "execution_count": null,
   "metadata": {},
   "outputs": [],
   "source": [
    "with open(\"gyakori_corpus\", \"r+\") as f:\n",
    "    data = f.read()\n",
    "    obj = json.loads(data)\n",
    "    print(obj)"
   ]
  },
  {
   "cell_type": "code",
   "execution_count": null,
   "metadata": {},
   "outputs": [],
   "source": []
  }
 ],
 "metadata": {
  "kernelspec": {
   "display_name": "Python 3",
   "language": "python",
   "name": "python3"
  },
  "language_info": {
   "codemirror_mode": {
    "name": "ipython",
    "version": 3
   },
   "file_extension": ".py",
   "mimetype": "text/x-python",
   "name": "python",
   "nbconvert_exporter": "python",
   "pygments_lexer": "ipython3",
   "version": "3.6.4"
  }
 },
 "nbformat": 4,
 "nbformat_minor": 2
}
