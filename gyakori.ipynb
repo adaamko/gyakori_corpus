{
 "cells": [
  {
   "cell_type": "code",
   "execution_count": 1,
   "metadata": {},
   "outputs": [],
   "source": [
    "import requests\n",
    "import re\n",
    "import numpy as np\n",
    "import json\n",
    "import pandas as pd"
   ]
  },
  {
   "cell_type": "code",
   "execution_count": 2,
   "metadata": {},
   "outputs": [],
   "source": [
    "corp = []"
   ]
  },
  {
   "cell_type": "code",
   "execution_count": 3,
   "metadata": {},
   "outputs": [],
   "source": [
    "with open(\"gyakori_allatok_14000\", \"r+\") as f:\n",
    "    corp = json.loads(f.read())\n",
    "    \n",
    "with open(\"gyakori_szorakozas_30000\", \"r+\") as f:\n",
    "    corp += json.loads(f.read())\n",
    "\n",
    "with open(\"gyakori_egeszseg\", \"r+\") as f:\n",
    "    corp += json.loads(f.read())\n",
    "    \n",
    "with open(\"gyakori_egeszseg_20000\", \"r+\") as f:\n",
    "    corp += json.loads(f.read())\n",
    "    \n",
    "with open(\"gyakori_szamitastechnika\", \"r+\") as f:\n",
    "    corp += json.loads(f.read())\n"
   ]
  },
  {
   "cell_type": "code",
   "execution_count": 4,
   "metadata": {},
   "outputs": [
    {
     "data": {
      "text/plain": [
       "{'hosszu_kerdes': 'Nagy terület őrzésére milyen kutyát javasolnátok? Bővebben lent. Régóta szerettünk volna kutyát tartani,de az igényeinknek nem tudjuk,hogy milyen kutya felelne meg,illetve,hogy mi milyen kutyának felelnénk meg.Ezért szeretném a segítségét kérni pár tapasztaltabb kutyásnak.Nem arról van szó,hogy nem tartottam még kutyát,hanem fajtákkal nem foglalkoztam túl sokat vagy épp nem én választottam ki azt.Párat én is ismerek,de nem annyira behatóan,hogy haza merjek hozni egyet mindenféle ismerettség nélkül.Adott egy nagy több hektáros terület,több féle-fajta-méretű állattal,így elsősorban egy állatokkal kompatibilis kutyára lenne szükségünk (lovak,egy szamár,szárnyasok,kecskék,pár bárány,struccok és nyulak).Vadász kutyákat ezért ki is lőttük,bár a következő pont miatt meg lehet,hogy pont ők felelnének meg.:Erdő és hegyek vannak mellettünk ahonnan vadállatok (főleg róka szokott) be tudnak jönni ezektől jó lenne,ha nem tartana.Nem kell,hogy öldököljön,csak azért ne hagyja őket bent garázdálkodni ha én nem veszem észre.Elég nekem az is,ha elüldözi őket.Van egy pár gyökér aki szintén rendszeresen bejár és lopja a tojásokat (nagy számban..),egy-egy csirke is szokott eltűnni,volt már,hogy sérüléseket hagytak az állatokon.Ezért mindenképpen olyat szeretnék aki nem retten meg,nem barátságos az idegenekkel.Nem kell,hogy harapjon,elég nekem az is,ha ugat,hogy észre vegyem és ki tudjak menni én is elzavarni őket.Szereltem fel ugyan kamerát több helyre,de az nem lát át egy kapusznin és napszemüvegen a bejárónk meg sajnos nem buta,hogy ezek nélkül jöjjön..:DAmiket tudnánk neki nyújtani:Mindenképpen többet szeretnénk beszerezni a kutyákból,de mindegyik a neki megfelelő ellátást ugyan úgy megkapná.Kint is lesz saját fűtött kutyaháza mindegyiknek ha esetleg úgy döntenének,hogy kint akarnak lenni egy-egy éjszaka.Kutya ajtónk lesz tehát bejárni be fognak tudni a házba.Elég nagy ahhoz,hogy akár nagy méretű kutyák is elférjenek velünk,tehát méretük mindegy.Szaporulatot nem szeretnénk így biztosan ivartalanítva lesz mindegyik.Otthoni területeken kívül tudnának jönni velünk a hegyekbe,az erdőbe,tóhoz is (a lovakat is gyakran le kell/szeretem mozgatni) gyakran sétálunk,futunk,mozgunk úgyhogy egy aktív,masszív kutya lenne jó.Egyedül semmiképpen nem maradnának az asszony és a gyerekekek mindig otthon vannak,és ugyan úgy lovakkal vagy gyalog,de mozognak tehát ha nem érek rá pár napig magán okok miatt akkor se maradnak egyedül vagy gondozatlanul az ebek sem.Van esetleg olyan kutyafajta ami nekünk megfelelne? Vagy ha menhelyen szétnézek és ugyan ezeket elmondom ott esélyes,hogy találok nekünk valókat?Előre is köszönöm :D',\n",
       " 'kategoriak': ['Állatok', 'Kutyák'],\n",
       " 'keywords': ['kutya', 'őrkutya', 'aktív'],\n",
       " 'rovid_kerdes': 'Nagy terület őrzésére milyen kutyát javasolnátok?\\nBővebben lent.',\n",
       " 'valasz': 'A komondor/kuvasz páros kimondottan ezekre a feladatokra lett kitenyésztve.Sajnos a kutya önmagában semmiféle védelmet nem nyújt, mert könnyű megmérgezni/lelőni. Egy megfigyelő rendszerrel, \"élőerős védelemmel\" együtt azonban komoly erőt képvisel.Az állatokkal való összeszoktatást mindenképpen egész kicsi korban el kell kezdeni.'}"
      ]
     },
     "execution_count": 4,
     "metadata": {},
     "output_type": "execute_result"
    }
   ],
   "source": [
    "corp[0]"
   ]
  },
  {
   "cell_type": "code",
   "execution_count": 5,
   "metadata": {},
   "outputs": [],
   "source": [
    "df = pd.DataFrame(corp)"
   ]
  },
  {
   "cell_type": "code",
   "execution_count": 6,
   "metadata": {},
   "outputs": [],
   "source": [
    "clean_questions = []\n",
    "with open(\"clean_questions\", \"r\") as f:\n",
    "    for line in f:\n",
    "        line = line.strip(\"\\n\")\n",
    "        clean_questions.append(line)\n",
    "        \n",
    "df['hosszu_kerdes_clean'] = clean_questions"
   ]
  },
  {
   "cell_type": "code",
   "execution_count": 7,
   "metadata": {},
   "outputs": [
    {
     "data": {
      "text/plain": [
       "0         nagy terület őrzés kutya javasol Bőveb lent ré...\n",
       "1         az álllatorvos alig elér ez szerintetek normál...\n",
       "2         Husky szoktat cica a cica először kutyus össze...\n",
       "3         Jár kutya fej jobb balra szem perc mitől éves ...\n",
       "4         Vadász vennék vizslát hobbi cél elvisz vadásza...\n",
       "5         Elszállásolhatok kutya panellakás nap a testvé...\n",
       "6         milyen tapasztalat vonat kutya utazás kapcsola...\n",
       "7         Macskám betegség hát jön kiütés dudor Viszk pá...\n",
       "8         Tudnát ajánl keverék kutyus elvan panel Sziasz...\n",
       "9         Kutya csontszilánk eszik ma pörkölt ebéd én es...\n",
       "10        mi csinál bánt Hozik kiscica hetes kislány hón...\n",
       "11        a svájci fejár juhászkutya ajánlanát első kuty...\n",
       "12        mi jelent fajtatiszta jellegű Sziaszt szeret k...\n",
       "13        Sorrend állítanát alábbi fajta mozgásigény Csi...\n",
       "14        Whippet kutya eltér valami van kutya whipp sze...\n",
       "15        Mennyi idő mire macska megszokik otthon éves k...\n",
       "16        Mekkora áramütés bír kutya a kutya megrág kábe...\n",
       "17        honnan mókus majm kisállat örök fogad nagyon s...\n",
       "18        mi csinál szobacica szőrhullajtás érdek Brit r...\n",
       "19        Melyik mudi kennelt ajánlanát mudi kutyus szer...\n",
       "20        magyar vizsla lakás tartás vélemény Sziazstok ...\n",
       "21        nem sokára gold retriever tud ír mi szerez kör...\n",
       "22        Milyen trükk taníthat kutya olyan gondol nehéz...\n",
       "23        hol tud beszerez hely keres magyar név talál t...\n",
       "24        az állat szabad akarat dönt rossz Wikipédia ír...\n",
       "25        hogyan dolgozik ló elvesztés igazából ló saját...\n",
       "26        a szomsz szaporit macsk a szomszed mar év ot m...\n",
       "27        Mennyire szelíd gabonasikló másfél éves kor ho...\n",
       "28        Chip lévő adat módosítás miként történik gazdi...\n",
       "29        lehet baj tőle hónapos csivava kutya ő akar sz...\n",
       "                                ...                        \n",
       "168097    Csatlakozik net mi baj na leír pontos baj van ...\n",
       "168098    distinct pontos működik mire egy példa feladat...\n",
       "168099    nem tehet Google AdSense hirdetés oldal kevés ...\n",
       "168100    monitor játszik PC Első rossz kategória ír ír ...\n",
       "168101    hogyan lesz többi lent elsősorban hírnév vágyi...\n",
       "168102    Sony Vegas verzió gép többi lent proci turbobo...\n",
       "168103    gép gyors intel pentium GB GB videókártyaHa me...\n",
       "168104    Asztali pc dedikált integrált grafikus vezérlő...\n",
       "168105    Mennyit érhet gamer szamítógép Megválnék gép l...\n",
       "168106    szöveg beolvasás változó hogyan a probléma ad ...\n",
       "168107    egy ruoter utp kábel vezet net ház wifi router...\n",
       "168108    Lassú internet több lent Sziaszt az probléma s...\n",
       "168109    Melyik videókártya érdemes vesz PC processzor ...\n",
       "168110    Elejtettem pár napos kis notebook vajon emiatt...\n",
       "168111    kártya fog müködik szeret számitogép bővit vid...\n",
       "168112    hogyan tud weboldal létrehoz oly weboldal szer...\n",
       "168113    milyen tetszési sorrend állít kép alap nek kel...\n",
       "168114    Felvételiztető fogad megoldás feladatlap ő kód...\n",
       "168115                                         RX GB GTX GB\n",
       "168116                      lehet baj belőle számítógép zúg\n",
       "168117    Melyiket választ ös macbo Apple laptop vesz tu...\n",
       "168118    mi tesz zsarolóvírus tegnap délelőtt elkezd ti...\n",
       "168119    Gép elvisz euro truc simulator szo kell gép el...\n",
       "168120    Fotógaléria készít Sziaszt szeret képő galéria...\n",
       "168121    a Linux fajta gyűjtőfogalom tud kiejt nek leír...\n",
       "168122    miért kattog tápegység Egyeb lent mostanában e...\n",
       "168123                                   vs vs ér jól játék\n",
       "168124    egy futó app szeret fejleszt JavaScript kezd S...\n",
       "168125    mire érdemes használ szóval addig eljut könyv ...\n",
       "168126    megér frissit Gamelésre ligh Photoshop Sony Ve...\n",
       "Name: hosszu_kerdes_clean, Length: 168127, dtype: object"
      ]
     },
     "execution_count": 7,
     "metadata": {},
     "output_type": "execute_result"
    }
   ],
   "source": [
    "df[\"hosszu_kerdes_clean\"]"
   ]
  },
  {
   "cell_type": "code",
   "execution_count": 8,
   "metadata": {},
   "outputs": [],
   "source": [
    "df[\"fokategoria\"] = df.kategoriak.apply(lambda x: x[0])\n",
    "df[\"alkategoria\"] = df.kategoriak.apply(lambda x: x[1])\n",
    "df = df.drop(\"kategoriak\", axis=1)"
   ]
  },
  {
   "cell_type": "code",
   "execution_count": 9,
   "metadata": {},
   "outputs": [],
   "source": [
    "import re\n",
    "def filter_question(question):\n",
    "    question = re.sub(r'(.+) nevű felhasználó kérdése:', '', question)\n",
    "    return question"
   ]
  },
  {
   "cell_type": "code",
   "execution_count": null,
   "metadata": {},
   "outputs": [],
   "source": [
    "df.hosszu_kerdes = df.hosszu_kerdes.apply(filter_question)"
   ]
  },
  {
   "cell_type": "code",
   "execution_count": null,
   "metadata": {},
   "outputs": [],
   "source": []
  }
 ],
 "metadata": {
  "kernelspec": {
   "display_name": "Python 3",
   "language": "python",
   "name": "python3"
  },
  "language_info": {
   "codemirror_mode": {
    "name": "ipython",
    "version": 3
   },
   "file_extension": ".py",
   "mimetype": "text/x-python",
   "name": "python",
   "nbconvert_exporter": "python",
   "pygments_lexer": "ipython3",
   "version": "3.5.2"
  }
 },
 "nbformat": 4,
 "nbformat_minor": 4
}
