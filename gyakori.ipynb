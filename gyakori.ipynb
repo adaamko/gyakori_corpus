{
 "cells": [
  {
   "cell_type": "code",
   "execution_count": 62,
   "metadata": {},
   "outputs": [],
   "source": [
    "import requests\n",
    "import re\n",
    "from bs4 import BeautifulSoup"
   ]
  },
  {
   "cell_type": "code",
   "execution_count": null,
   "metadata": {},
   "outputs": [],
   "source": [
    "root = \"http://gyakorikerdesek.hu\"\n",
    "page = requests.get(root)\n",
    "soup = BeautifulSoup(page.content, 'html.parser')\n",
    "html = list(soup.children)[2]\n",
    "\n",
    "menus = [] \n",
    "for menu in soup.find_all(class_='menu'):\n",
    "    menus.append(menu.a.get(\"href\"))\n",
    "    \n",
    "page = requests.get(root + menus[1])\n",
    "allatok = BeautifulSoup(page.content, 'html.parser')"
   ]
  },
  {
   "cell_type": "code",
   "execution_count": 67,
   "metadata": {},
   "outputs": [
    {
     "name": "stdout",
     "output_type": "stream",
     "text": [
      "/allatok__egyeb-kerdesek__10073226-milyen-allatot-lathattam\n",
      "Nincs.A válasz 86%-ban hasznosnak tűnik. A válaszíró 75%-ban hasznos válaszokat ad.\n",
      "<_sre.SRE_Match object; span=(6, 40), match='A válasz 86%-ban hasznosnak tűnik.'>\n",
      "Nincs.Nekem meg az olyan unatkozó mindenbe belekötő savanyu emberekbol van elegem mint te. Tan ki kellene téged meg a hozzad hasonlókat tiltani az üzletekből, nem? Sőt, tudok jobbat. Kilovunk a Holdra, okes?A válasz 74%-ban hasznosnak tűnik. A válaszíró 73%-ban hasznos válaszokat ad.\n",
      "<_sre.SRE_Match object; span=(207, 241), match='A válasz 74%-ban hasznosnak tűnik.'>\n",
      "A kutyát legalább lehet szeretni...nem úgy, mint például téged.A válasz 73%-ban hasznosnak tűnik. A válaszíró 66%-ban hasznos válaszokat ad.\n",
      "<_sre.SRE_Match object; span=(63, 97), match='A válasz 73%-ban hasznosnak tűnik.'>\n",
      "Nincs, eddig is ugyanez volt, max. te csak most vetted észre. És nem, nem értek egyet az i.dióta elméleteddel. Én allergiás vagyok a kutyaszőrre, de abszolút nem zavar egyáltalán, hogyha vki kutyát hoz fel a vonatra, vagy strandra. Viszont a magadfajta értelmi fogyatékos emberek nagyon zavarnak, valami adót kéne rátok kivetniA válasz 56%-ban hasznosnak tűnik. A válaszíró 66%-ban hasznos válaszokat ad.\n",
      "<_sre.SRE_Match object; span=(327, 361), match='A válasz 56%-ban hasznosnak tűnik.'>\n",
      "Amúgy meg, ha f.sol a kutyáktól, az egyedül a te problémád. A te s7@rodat, szemetedet és ugatásodat sem akarja hallani senki, mégis valakinek el kell viselnie téged.Csak a rossz embereket utálják a kutyusok. :)A válasz 58%-ban hasznosnak tűnik. A válaszíró 66%-ban hasznos válaszokat ad.\n",
      "<_sre.SRE_Match object; span=(210, 244), match='A válasz 58%-ban hasznosnak tűnik.'>\n",
      "Én nem szeretem a kutyákat, és engem is idegesít, hogy mennyire túl van tolva ez az egész. Ha meglátnak egy kutyát egyből elolvadnak, legyen az bármilyen, meg mondjuk ha valakit megtámad egy kutya és önvédelemből kárt tesz benne, akkor egyből ő lesz a hibás, meg két nap múlva tele lesz ezzel az internet. Nem tudom, mit lehet ennyire enni egy kutyán.A válasz 38%-ban hasznosnak tűnik. A válaszíró 58%-ban hasznos válaszokat ad.\n",
      "<_sre.SRE_Match object; span=(351, 385), match='A válasz 38%-ban hasznosnak tűnik.'>\n",
      "Szerintem eyáltalán nincs, én általában kimondottan örülök, amikor összetalálkozom egy szimpatikus kutyával ilyen helyeken. Mondom ezt úgy, hogy én nem élek ezekkel a lehetőségekkel a kutyámmal.23/FA válasz 82%-ban hasznosnak tűnik. A válaszíró 78%-ban hasznos válaszokat ad.\n",
      "<_sre.SRE_Match object; span=(198, 232), match='A válasz 82%-ban hasznosnak tűnik.'>\n",
      "Nincs, szerintem így is épp elég nem kutyás hely van. Mindenki megtalálja a maga közegét.A válasz 60%-ban hasznosnak tűnik. A válaszíró 63%-ban hasznos válaszokat ad.\n",
      "<_sre.SRE_Match object; span=(89, 123), match='A válasz 60%-ban hasznosnak tűnik.'>\n",
      "Rossz helyre jottel ha teged tamogato kommenteket varszA válasz 75%-ban hasznosnak tűnik. A válaszíró 78%-ban hasznos válaszokat ad.\n",
      "<_sre.SRE_Match object; span=(55, 89), match='A válasz 75%-ban hasznosnak tűnik.'>\n",
      "Nem szeretem a kutyákat egy gyermekkori trauma miatt, cicás vagyok. De nem értem a problémád.Akinek van egy kutyája, az természetes, hogy élete végéig felelősséget vállal érte. Nem teheted fel otthon a polcra, amíg mondjuk nyaralni mész. Természetes, hogy viszed magaddal, ha megoldható.Az albérlet esetén is tök egyértelmű, hogy felelősségteljes ember az állatàval együtt költözik, nem nélküle.A strand is tök érthető, miért zavar ez, komolyan?Tiszafüreden pl a normál strand mellett van egy kutyás strand. Mindenki eldönti, hogy hova akar menni. Semmiben nem befolyàsolja a te fürdőzésed az, hogy 1 km-el arrébb valaki a kutyás strandon van.A plázât sem igazán értem. Nyilván élelmiszerboltba ne vigye be, de mi kárt tud csinálni a többi boltban egy jól nevelt, pórázon sétáló állat? Nem Mari néni fogja az 50 fős zsákfaluból, a neveletlen, elhanyagolt kutyáját bevinni, hanem azok, akiknél a kutyával foglalkozva van, jól nevelt, tiszta, oltott, fereghajtott stb.Az éttermet még megértem, de teraszon szerintem ott is el lehet férni tőle.Én teljesen megértem, hogy van ahol családtag. Miért ne lenne? Együtt élnek, szeretik egymást és gyakorlatilag az állat haláláig ellátja a gazda.Inkább az a szomorú, amikor valaki úgy tart kutyát, hogy napi 2 percet foglalkozik vele és ki van csapva a kertbe. Sokkal veszélyesebbek az ilyen kutyák, megjegyzem.A válasz 97%-ban hasznosnak tűnik. A válaszíró 83%-ban hasznos válaszokat ad.\n",
      "<_sre.SRE_Match object; span=(1351, 1385), match='A válasz 97%-ban hasznosnak tűnik.'>\n"
     ]
    }
   ],
   "source": [
    "valasz_hasznos = re.compile(\"A válasz (\\d+)%-ban hasznosnak tűnik.\")\n",
    "iro_hasznos = re.compile(\"A válaszíró (\\d+)%-ban hasznos válaszokat ad.\")\n",
    "\n",
    "k = allatok.find_all(class_=\"kerdes_lista\")[1].find_all(\"tr\")[0].find(\"a\").get(\"href\")\n",
    "\n",
    "subpage = requests.get(root + \"/allatok__allatvedelem__10072086-szerintetek-nincs-tulzasba-vive-manapsag-ez-a-kutyabarat-tema\")\n",
    "print(k)\n",
    "p = BeautifulSoup(subpage.content, 'html.parser').find_all(\"td\", class_=\"valaszok vtop\")\n",
    "if p:\n",
    "    for val in p:\n",
    "        val_text = val.get_text().strip(\"\\n\")\n",
    "        if val_text:\n",
    "            print(val_text)\n",
    "            m = valasz_hasznos.search(val_text)\n",
    "            print(m)"
   ]
  },
  {
   "cell_type": "code",
   "execution_count": null,
   "metadata": {},
   "outputs": [],
   "source": [
    "corp = {}\n",
    "for i,kerdes in enumerate(allatok.find_all(class_=\"kerdes_lista\")[1].find_all(\"tr\")):\n",
    "    kerdes_url = kerdes.find(\"a\").get(\"href\")\n",
    "    subpage = requests.get(root + kerdes_url)\n",
    "    allatok_kerdes = BeautifulSoup(subpage.content, 'html.parser')\n",
    "    hosszu_kerdes = allatok_kerdes.find(class_=\"kerdes\").find_all(\"td\")[2].get_text()\n",
    "    rovid_kerdes = allatok_kerdes.find(class_=\"kerdes\").find_all(\"td\")[2].h1.get_text()\n",
    "    kategoriak = []\n",
    "    for kategoria in allatok_kerdes.find(\"select\").find_all(\"option\")[1:]:\n",
    "        kategoriak.append(kategoria.get_text())\n",
    "    corp[i] = {\"rovid_kerdes\": rovid_kerdes, \"hosszu_kerdes\": hosszu_kerdes, \"kategoriak\": kategoriak}\n",
    "    print(i)"
   ]
  },
  {
   "cell_type": "code",
   "execution_count": null,
   "metadata": {},
   "outputs": [],
   "source": [
    "for k in range(1,1000):\n",
    "    page = requests.get(root + \"/allatok__oldal-\"+str(k))\n",
    "    allatok = BeautifulSoup(page.content, 'html.parser')\n",
    "    kerdesek_raw = allatok.find_all(class_=\"kerdes_lista\")\n",
    "    if len(kerdesek_raw) == 1:\n",
    "        kerdesek = kerdesek_raw[0].find_all(\"tr\")\n",
    "    elif len(kerdesek_raw) == 2:\n",
    "        kerdesek = kerdesek_raw[1].find_all(\"tr\")\n",
    "    for kerdes in kerdesek:\n",
    "        kerdes_url = kerdes.find(\"a\").get(\"href\")\n",
    "        subpage = requests.get(root + kerdes_url)\n",
    "        allatok_kerdes = BeautifulSoup(subpage.content, 'html.parser')\n",
    "        hosszu_kerdes = allatok_kerdes.find(class_=\"kerdes\").find_all(\"td\")[2].get_text()\n",
    "        rovid_kerdes = allatok_kerdes.find(class_=\"kerdes\").find_all(\"td\")[2].h1.get_text()\n",
    "        kategoriak = []\n",
    "        for kategoria in allatok_kerdes.find(\"select\").find_all(\"option\")[1:]:\n",
    "            kategoriak.append(kategoria.get_text())\n",
    "        i += 1\n",
    "        corp[i] = {\"rovid_kerdes\": rovid_kerdes, \"hosszu_kerdes\": hosszu_kerdes, \"kategoriak\": kategoriak}\n",
    "        print(i)\n",
    "    print(\"page: \" + str(k))"
   ]
  },
  {
   "cell_type": "code",
   "execution_count": null,
   "metadata": {},
   "outputs": [],
   "source": [
    "page = requests.get(root + \"/allatok__kutyak__9989071-meg-nem-volt-kutyam-airdale-terrier-lakasban-tartasarol-mit-gondoltok\")"
   ]
  },
  {
   "cell_type": "code",
   "execution_count": null,
   "metadata": {},
   "outputs": [],
   "source": [
    "allatok_kerdes = BeautifulSoup(page.content, 'html.parser')"
   ]
  },
  {
   "cell_type": "code",
   "execution_count": null,
   "metadata": {},
   "outputs": [],
   "source": [
    "allatok_kerdes"
   ]
  },
  {
   "cell_type": "code",
   "execution_count": null,
   "metadata": {},
   "outputs": [],
   "source": [
    "allatok_kerdes.find(class_=\"kerdes\").find_all(\"td\")[2].get_text()"
   ]
  },
  {
   "cell_type": "code",
   "execution_count": null,
   "metadata": {},
   "outputs": [],
   "source": [
    "allatok_kerdes.find(class_=\"kerdes\").find_all(\"td\")[2].h1.get_text()"
   ]
  },
  {
   "cell_type": "code",
   "execution_count": null,
   "metadata": {},
   "outputs": [],
   "source": [
    "allatok_kerdes.find(\"select\").find(\"option\").get_text()"
   ]
  },
  {
   "cell_type": "code",
   "execution_count": null,
   "metadata": {},
   "outputs": [],
   "source": [
    "import json\n",
    "with open(\"gyakori_corpus\", \"w+\") as f:\n",
    "    for ind in corp:\n",
    "        kategoriak = corp[ind][\"kategoriak\"]\n",
    "        rovid_kerdes = corp[ind][\"rovid_kerdes\"]\n",
    "        hosszu_kerdes = ' '.join(corp[ind][\"hosszu_kerdes\"].split(\"\\n\")[1:])\n",
    "        f.write(\",\".join(kategoriak) + \"\\t\" + rovid_kerdes + \"\\t\" + hosszu_kerdes + \"\\n\")\n",
    "        #f.write(json.dumps(corp[ind]))"
   ]
  },
  {
   "cell_type": "code",
   "execution_count": null,
   "metadata": {},
   "outputs": [],
   "source": [
    "kerdes_url"
   ]
  },
  {
   "cell_type": "code",
   "execution_count": null,
   "metadata": {},
   "outputs": [],
   "source": [
    "corp"
   ]
  },
  {
   "cell_type": "code",
   "execution_count": null,
   "metadata": {},
   "outputs": [],
   "source": [
    "filtered_corp"
   ]
  },
  {
   "cell_type": "code",
   "execution_count": null,
   "metadata": {},
   "outputs": [],
   "source": [
    "inds = []\n",
    "for c in corp:\n",
    "    hosszu_kerdes = corp[c][\"hosszu_kerdes\"].strip(\"\\n\").replace(\"(adsbygoogle = window.adsbygoogle || []).push({});\",\"\").split(\"\\n\")\n",
    "    hosszu_kerdes = \" \".join(hosszu_kerdes)\n",
    "    if \"Keress kérdéseket hasonló témákban:\" in hosszu_kerdes:\n",
    "        kerdes = hosszu_kerdes.split(\"Keress kérdéseket hasonló témákban:\")\n",
    "        corp[c][\"hosszu_kerdes\"] = kerdes[0].strip().replace(\"\\n\",\" \")\n",
    "        corp[c][\"keywords\"] = [i.strip() for i in kerdes[1].split(\",\")]\n",
    "        kat = corp[c][\"kategoriak\"]\n",
    "        kat_filt = [i.replace(\"» \", \"\") for i in kat]\n",
    "        corp[c][\"kategoriak\"] = kat_filt\n",
    "        inds.append(c)\n",
    "        \n",
    "filtered_corp = [corp[i] for i in corp if i in inds]"
   ]
  },
  {
   "cell_type": "code",
   "execution_count": null,
   "metadata": {},
   "outputs": [],
   "source": [
    "import json\n",
    "with open(\"gyakori_corpus\", \"w+\") as f:\n",
    "    for ind in inds:\n",
    "        kategoriak = corp[ind][\"kategoriak\"]\n",
    "        rovid_kerdes = corp[ind][\"rovid_kerdes\"]\n",
    "        hosszu_kerdes = ' '.join(corp[ind][\"hosszu_kerdes\"].split(\"\\n\")[1:])\n",
    "        f.write(\",\".join(kategoriak) + \"\\t\" + rovid_kerdes + \"\\t\" + hosszu_kerdes + \"\\n\")"
   ]
  }
 ],
 "metadata": {
  "kernelspec": {
   "display_name": "Python 3",
   "language": "python",
   "name": "python3"
  },
  "language_info": {
   "codemirror_mode": {
    "name": "ipython",
    "version": 3
   },
   "file_extension": ".py",
   "mimetype": "text/x-python",
   "name": "python",
   "nbconvert_exporter": "python",
   "pygments_lexer": "ipython3",
   "version": "3.6.4"
  }
 },
 "nbformat": 4,
 "nbformat_minor": 2
}
